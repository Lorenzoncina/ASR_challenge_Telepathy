{
 "cells": [
  {
   "cell_type": "markdown",
   "metadata": {
    "id": "ySFu5Q-nyUxh"
   },
   "source": [
    "Install Dependencies (Colab only)"
   ]
  },
  {
   "cell_type": "code",
   "execution_count": 1,
   "metadata": {
    "colab": {
     "base_uri": "https://localhost:8080/"
    },
    "id": "i0-HT5VfwJTU",
    "outputId": "40b0cada-5f6a-47dd-c87b-cb0072155af9"
   },
   "outputs": [
    {
     "name": "stdout",
     "output_type": "stream",
     "text": [
      "Collecting virtualenv\n",
      "  Downloading virtualenv-20.27.0-py3-none-any.whl (3.1 MB)\n",
      "\u001b[2K     \u001b[90m━━━━━━━━━━━━━━━━━━━━━━━━━━━━━━━━━━━━━━━━\u001b[0m \u001b[32m3.1/3.1 MB\u001b[0m \u001b[31m57.4 MB/s\u001b[0m eta \u001b[36m0:00:00\u001b[0ma \u001b[36m0:00:01\u001b[0m\n",
      "\u001b[?25hCollecting distlib<1,>=0.3.7\n",
      "  Downloading distlib-0.3.9-py2.py3-none-any.whl (468 kB)\n",
      "\u001b[2K     \u001b[90m━━━━━━━━━━━━━━━━━━━━━━━━━━━━━━━━━━━━━━\u001b[0m \u001b[32m469.0/469.0 KB\u001b[0m \u001b[31m75.4 MB/s\u001b[0m eta \u001b[36m0:00:00\u001b[0m\n",
      "\u001b[?25hRequirement already satisfied: filelock<4,>=3.12.2 in /home/concina/telephaty/ASR_challenge_Telepathy/venv_challenge_task_2/lib/python3.10/site-packages (from virtualenv) (3.16.1)\n",
      "Requirement already satisfied: platformdirs<5,>=3.9.1 in /home/concina/telephaty/ASR_challenge_Telepathy/venv_challenge_task_2/lib/python3.10/site-packages (from virtualenv) (4.3.6)\n",
      "Installing collected packages: distlib, virtualenv\n",
      "Successfully installed distlib-0.3.9 virtualenv-20.27.0\n",
      "created virtual environment CPython3.10.12.final.0-64 in 454ms\n",
      "  creator CPython3Posix(dest=/home/concina/telephaty/ASR_challenge_Telepathy/notebooks/venv_task_2, clear=False, no_vcs_ignore=False, global=False)\n",
      "  seeder FromAppData(download=False, pip=bundle, setuptools=bundle, wheel=bundle, via=copy, app_data_dir=/home/concina/.local/share/virtualenv)\n",
      "    added seed packages: pip==24.2, setuptools==74.1.2, wheel==0.44.0\n",
      "  activators BashActivator,CShellActivator,FishActivator,NushellActivator,PowerShellActivator,PythonActivator\n",
      "/bin/bash: line 1: venv/bin/activate: No such file or directory\n",
      "Requirement already satisfied: faster-whisper in /home/concina/telephaty/ASR_challenge_Telepathy/venv_challenge_task_2/lib/python3.10/site-packages (1.0.3)\n",
      "Requirement already satisfied: tokenizers<1,>=0.13 in /home/concina/telephaty/ASR_challenge_Telepathy/venv_challenge_task_2/lib/python3.10/site-packages (from faster-whisper) (0.20.1)\n",
      "Requirement already satisfied: ctranslate2<5,>=4.0 in /home/concina/telephaty/ASR_challenge_Telepathy/venv_challenge_task_2/lib/python3.10/site-packages (from faster-whisper) (4.4.0)\n",
      "Requirement already satisfied: onnxruntime<2,>=1.14 in /home/concina/telephaty/ASR_challenge_Telepathy/venv_challenge_task_2/lib/python3.10/site-packages (from faster-whisper) (1.19.2)\n",
      "Requirement already satisfied: huggingface-hub>=0.13 in /home/concina/telephaty/ASR_challenge_Telepathy/venv_challenge_task_2/lib/python3.10/site-packages (from faster-whisper) (0.26.0)\n",
      "Requirement already satisfied: av<13,>=11.0 in /home/concina/telephaty/ASR_challenge_Telepathy/venv_challenge_task_2/lib/python3.10/site-packages (from faster-whisper) (12.3.0)\n",
      "Requirement already satisfied: pyyaml<7,>=5.3 in /home/concina/telephaty/ASR_challenge_Telepathy/venv_challenge_task_2/lib/python3.10/site-packages (from ctranslate2<5,>=4.0->faster-whisper) (6.0.2)\n",
      "Requirement already satisfied: setuptools in /home/concina/telephaty/ASR_challenge_Telepathy/venv_challenge_task_2/lib/python3.10/site-packages (from ctranslate2<5,>=4.0->faster-whisper) (59.6.0)\n",
      "Requirement already satisfied: numpy in /home/concina/telephaty/ASR_challenge_Telepathy/venv_challenge_task_2/lib/python3.10/site-packages (from ctranslate2<5,>=4.0->faster-whisper) (2.1.2)\n",
      "Requirement already satisfied: requests in /home/concina/telephaty/ASR_challenge_Telepathy/venv_challenge_task_2/lib/python3.10/site-packages (from huggingface-hub>=0.13->faster-whisper) (2.32.3)\n",
      "Requirement already satisfied: packaging>=20.9 in /home/concina/telephaty/ASR_challenge_Telepathy/venv_challenge_task_2/lib/python3.10/site-packages (from huggingface-hub>=0.13->faster-whisper) (24.1)\n",
      "Requirement already satisfied: typing-extensions>=3.7.4.3 in /home/concina/telephaty/ASR_challenge_Telepathy/venv_challenge_task_2/lib/python3.10/site-packages (from huggingface-hub>=0.13->faster-whisper) (4.12.2)\n",
      "Requirement already satisfied: tqdm>=4.42.1 in /home/concina/telephaty/ASR_challenge_Telepathy/venv_challenge_task_2/lib/python3.10/site-packages (from huggingface-hub>=0.13->faster-whisper) (4.66.5)\n",
      "Requirement already satisfied: filelock in /home/concina/telephaty/ASR_challenge_Telepathy/venv_challenge_task_2/lib/python3.10/site-packages (from huggingface-hub>=0.13->faster-whisper) (3.16.1)\n",
      "Requirement already satisfied: fsspec>=2023.5.0 in /home/concina/telephaty/ASR_challenge_Telepathy/venv_challenge_task_2/lib/python3.10/site-packages (from huggingface-hub>=0.13->faster-whisper) (2024.6.1)\n",
      "Requirement already satisfied: coloredlogs in /home/concina/telephaty/ASR_challenge_Telepathy/venv_challenge_task_2/lib/python3.10/site-packages (from onnxruntime<2,>=1.14->faster-whisper) (15.0.1)\n",
      "Requirement already satisfied: flatbuffers in /home/concina/telephaty/ASR_challenge_Telepathy/venv_challenge_task_2/lib/python3.10/site-packages (from onnxruntime<2,>=1.14->faster-whisper) (24.3.25)\n",
      "Requirement already satisfied: sympy in /home/concina/telephaty/ASR_challenge_Telepathy/venv_challenge_task_2/lib/python3.10/site-packages (from onnxruntime<2,>=1.14->faster-whisper) (1.13.3)\n",
      "Requirement already satisfied: protobuf in /home/concina/telephaty/ASR_challenge_Telepathy/venv_challenge_task_2/lib/python3.10/site-packages (from onnxruntime<2,>=1.14->faster-whisper) (5.28.2)\n",
      "Requirement already satisfied: humanfriendly>=9.1 in /home/concina/telephaty/ASR_challenge_Telepathy/venv_challenge_task_2/lib/python3.10/site-packages (from coloredlogs->onnxruntime<2,>=1.14->faster-whisper) (10.0)\n",
      "Requirement already satisfied: charset-normalizer<4,>=2 in /home/concina/telephaty/ASR_challenge_Telepathy/venv_challenge_task_2/lib/python3.10/site-packages (from requests->huggingface-hub>=0.13->faster-whisper) (3.4.0)\n",
      "Requirement already satisfied: urllib3<3,>=1.21.1 in /home/concina/telephaty/ASR_challenge_Telepathy/venv_challenge_task_2/lib/python3.10/site-packages (from requests->huggingface-hub>=0.13->faster-whisper) (2.2.3)\n",
      "Requirement already satisfied: certifi>=2017.4.17 in /home/concina/telephaty/ASR_challenge_Telepathy/venv_challenge_task_2/lib/python3.10/site-packages (from requests->huggingface-hub>=0.13->faster-whisper) (2024.8.30)\n",
      "Requirement already satisfied: idna<4,>=2.5 in /home/concina/telephaty/ASR_challenge_Telepathy/venv_challenge_task_2/lib/python3.10/site-packages (from requests->huggingface-hub>=0.13->faster-whisper) (3.10)\n",
      "Requirement already satisfied: mpmath<1.4,>=1.1.0 in /home/concina/telephaty/ASR_challenge_Telepathy/venv_challenge_task_2/lib/python3.10/site-packages (from sympy->onnxruntime<2,>=1.14->faster-whisper) (1.3.0)\n",
      "Requirement already satisfied: evaluate==0.4.0 in /home/concina/telephaty/ASR_challenge_Telepathy/venv_challenge_task_2/lib/python3.10/site-packages (0.4.0)\n",
      "Requirement already satisfied: responses<0.19 in /home/concina/telephaty/ASR_challenge_Telepathy/venv_challenge_task_2/lib/python3.10/site-packages (from evaluate==0.4.0) (0.18.0)\n",
      "Requirement already satisfied: huggingface-hub>=0.7.0 in /home/concina/telephaty/ASR_challenge_Telepathy/venv_challenge_task_2/lib/python3.10/site-packages (from evaluate==0.4.0) (0.26.0)\n",
      "Requirement already satisfied: datasets>=2.0.0 in /home/concina/telephaty/ASR_challenge_Telepathy/venv_challenge_task_2/lib/python3.10/site-packages (from evaluate==0.4.0) (3.0.1)\n",
      "Requirement already satisfied: packaging in /home/concina/telephaty/ASR_challenge_Telepathy/venv_challenge_task_2/lib/python3.10/site-packages (from evaluate==0.4.0) (24.1)\n",
      "Requirement already satisfied: tqdm>=4.62.1 in /home/concina/telephaty/ASR_challenge_Telepathy/venv_challenge_task_2/lib/python3.10/site-packages (from evaluate==0.4.0) (4.66.5)\n",
      "Requirement already satisfied: xxhash in /home/concina/telephaty/ASR_challenge_Telepathy/venv_challenge_task_2/lib/python3.10/site-packages (from evaluate==0.4.0) (3.5.0)\n",
      "Requirement already satisfied: multiprocess in /home/concina/telephaty/ASR_challenge_Telepathy/venv_challenge_task_2/lib/python3.10/site-packages (from evaluate==0.4.0) (0.70.16)\n",
      "Requirement already satisfied: pandas in /home/concina/telephaty/ASR_challenge_Telepathy/venv_challenge_task_2/lib/python3.10/site-packages (from evaluate==0.4.0) (2.2.3)\n",
      "Requirement already satisfied: requests>=2.19.0 in /home/concina/telephaty/ASR_challenge_Telepathy/venv_challenge_task_2/lib/python3.10/site-packages (from evaluate==0.4.0) (2.32.3)\n",
      "Requirement already satisfied: dill in /home/concina/telephaty/ASR_challenge_Telepathy/venv_challenge_task_2/lib/python3.10/site-packages (from evaluate==0.4.0) (0.3.8)\n",
      "Requirement already satisfied: fsspec[http]>=2021.05.0 in /home/concina/telephaty/ASR_challenge_Telepathy/venv_challenge_task_2/lib/python3.10/site-packages (from evaluate==0.4.0) (2024.6.1)\n",
      "Requirement already satisfied: numpy>=1.17 in /home/concina/telephaty/ASR_challenge_Telepathy/venv_challenge_task_2/lib/python3.10/site-packages (from evaluate==0.4.0) (2.1.2)\n",
      "Requirement already satisfied: pyyaml>=5.1 in /home/concina/telephaty/ASR_challenge_Telepathy/venv_challenge_task_2/lib/python3.10/site-packages (from datasets>=2.0.0->evaluate==0.4.0) (6.0.2)\n",
      "Requirement already satisfied: aiohttp in /home/concina/telephaty/ASR_challenge_Telepathy/venv_challenge_task_2/lib/python3.10/site-packages (from datasets>=2.0.0->evaluate==0.4.0) (3.10.10)\n",
      "Requirement already satisfied: pyarrow>=15.0.0 in /home/concina/telephaty/ASR_challenge_Telepathy/venv_challenge_task_2/lib/python3.10/site-packages (from datasets>=2.0.0->evaluate==0.4.0) (17.0.0)\n",
      "Requirement already satisfied: filelock in /home/concina/telephaty/ASR_challenge_Telepathy/venv_challenge_task_2/lib/python3.10/site-packages (from datasets>=2.0.0->evaluate==0.4.0) (3.16.1)\n",
      "Requirement already satisfied: typing-extensions>=3.7.4.3 in /home/concina/telephaty/ASR_challenge_Telepathy/venv_challenge_task_2/lib/python3.10/site-packages (from huggingface-hub>=0.7.0->evaluate==0.4.0) (4.12.2)\n",
      "Requirement already satisfied: certifi>=2017.4.17 in /home/concina/telephaty/ASR_challenge_Telepathy/venv_challenge_task_2/lib/python3.10/site-packages (from requests>=2.19.0->evaluate==0.4.0) (2024.8.30)\n",
      "Requirement already satisfied: urllib3<3,>=1.21.1 in /home/concina/telephaty/ASR_challenge_Telepathy/venv_challenge_task_2/lib/python3.10/site-packages (from requests>=2.19.0->evaluate==0.4.0) (2.2.3)\n",
      "Requirement already satisfied: charset-normalizer<4,>=2 in /home/concina/telephaty/ASR_challenge_Telepathy/venv_challenge_task_2/lib/python3.10/site-packages (from requests>=2.19.0->evaluate==0.4.0) (3.4.0)\n",
      "Requirement already satisfied: idna<4,>=2.5 in /home/concina/telephaty/ASR_challenge_Telepathy/venv_challenge_task_2/lib/python3.10/site-packages (from requests>=2.19.0->evaluate==0.4.0) (3.10)\n",
      "Requirement already satisfied: python-dateutil>=2.8.2 in /home/concina/telephaty/ASR_challenge_Telepathy/venv_challenge_task_2/lib/python3.10/site-packages (from pandas->evaluate==0.4.0) (2.9.0.post0)\n",
      "Requirement already satisfied: pytz>=2020.1 in /home/concina/telephaty/ASR_challenge_Telepathy/venv_challenge_task_2/lib/python3.10/site-packages (from pandas->evaluate==0.4.0) (2024.2)\n",
      "Requirement already satisfied: tzdata>=2022.7 in /home/concina/telephaty/ASR_challenge_Telepathy/venv_challenge_task_2/lib/python3.10/site-packages (from pandas->evaluate==0.4.0) (2024.2)\n",
      "Requirement already satisfied: multidict<7.0,>=4.5 in /home/concina/telephaty/ASR_challenge_Telepathy/venv_challenge_task_2/lib/python3.10/site-packages (from aiohttp->datasets>=2.0.0->evaluate==0.4.0) (6.1.0)\n",
      "Requirement already satisfied: yarl<2.0,>=1.12.0 in /home/concina/telephaty/ASR_challenge_Telepathy/venv_challenge_task_2/lib/python3.10/site-packages (from aiohttp->datasets>=2.0.0->evaluate==0.4.0) (1.15.5)\n",
      "Requirement already satisfied: aiosignal>=1.1.2 in /home/concina/telephaty/ASR_challenge_Telepathy/venv_challenge_task_2/lib/python3.10/site-packages (from aiohttp->datasets>=2.0.0->evaluate==0.4.0) (1.3.1)\n",
      "Requirement already satisfied: aiohappyeyeballs>=2.3.0 in /home/concina/telephaty/ASR_challenge_Telepathy/venv_challenge_task_2/lib/python3.10/site-packages (from aiohttp->datasets>=2.0.0->evaluate==0.4.0) (2.4.3)\n",
      "Requirement already satisfied: frozenlist>=1.1.1 in /home/concina/telephaty/ASR_challenge_Telepathy/venv_challenge_task_2/lib/python3.10/site-packages (from aiohttp->datasets>=2.0.0->evaluate==0.4.0) (1.4.1)\n",
      "Requirement already satisfied: attrs>=17.3.0 in /home/concina/telephaty/ASR_challenge_Telepathy/venv_challenge_task_2/lib/python3.10/site-packages (from aiohttp->datasets>=2.0.0->evaluate==0.4.0) (24.2.0)\n",
      "Requirement already satisfied: async-timeout<5.0,>=4.0 in /home/concina/telephaty/ASR_challenge_Telepathy/venv_challenge_task_2/lib/python3.10/site-packages (from aiohttp->datasets>=2.0.0->evaluate==0.4.0) (4.0.3)\n",
      "Requirement already satisfied: six>=1.5 in /home/concina/telephaty/ASR_challenge_Telepathy/venv_challenge_task_2/lib/python3.10/site-packages (from python-dateutil>=2.8.2->pandas->evaluate==0.4.0) (1.16.0)\n",
      "Requirement already satisfied: propcache>=0.2.0 in /home/concina/telephaty/ASR_challenge_Telepathy/venv_challenge_task_2/lib/python3.10/site-packages (from yarl<2.0,>=1.12.0->aiohttp->datasets>=2.0.0->evaluate==0.4.0) (0.2.0)\n",
      "Requirement already satisfied: jiwer in /home/concina/telephaty/ASR_challenge_Telepathy/venv_challenge_task_2/lib/python3.10/site-packages (3.0.4)\n",
      "Requirement already satisfied: click<9.0.0,>=8.1.3 in /home/concina/telephaty/ASR_challenge_Telepathy/venv_challenge_task_2/lib/python3.10/site-packages (from jiwer) (8.1.7)\n",
      "Requirement already satisfied: rapidfuzz<4,>=3 in /home/concina/telephaty/ASR_challenge_Telepathy/venv_challenge_task_2/lib/python3.10/site-packages (from jiwer) (3.10.0)\n",
      "Requirement already satisfied: matplotlib in /home/concina/telephaty/ASR_challenge_Telepathy/venv_challenge_task_2/lib/python3.10/site-packages (3.9.2)\n",
      "Requirement already satisfied: contourpy>=1.0.1 in /home/concina/telephaty/ASR_challenge_Telepathy/venv_challenge_task_2/lib/python3.10/site-packages (from matplotlib) (1.3.0)\n",
      "Requirement already satisfied: python-dateutil>=2.7 in /home/concina/telephaty/ASR_challenge_Telepathy/venv_challenge_task_2/lib/python3.10/site-packages (from matplotlib) (2.9.0.post0)\n",
      "Requirement already satisfied: pyparsing>=2.3.1 in /home/concina/telephaty/ASR_challenge_Telepathy/venv_challenge_task_2/lib/python3.10/site-packages (from matplotlib) (3.2.0)\n",
      "Requirement already satisfied: numpy>=1.23 in /home/concina/telephaty/ASR_challenge_Telepathy/venv_challenge_task_2/lib/python3.10/site-packages (from matplotlib) (2.1.2)\n",
      "Requirement already satisfied: packaging>=20.0 in /home/concina/telephaty/ASR_challenge_Telepathy/venv_challenge_task_2/lib/python3.10/site-packages (from matplotlib) (24.1)\n",
      "Requirement already satisfied: pillow>=8 in /home/concina/telephaty/ASR_challenge_Telepathy/venv_challenge_task_2/lib/python3.10/site-packages (from matplotlib) (11.0.0)\n",
      "Requirement already satisfied: cycler>=0.10 in /home/concina/telephaty/ASR_challenge_Telepathy/venv_challenge_task_2/lib/python3.10/site-packages (from matplotlib) (0.12.1)\n",
      "Requirement already satisfied: kiwisolver>=1.3.1 in /home/concina/telephaty/ASR_challenge_Telepathy/venv_challenge_task_2/lib/python3.10/site-packages (from matplotlib) (1.4.7)\n",
      "Requirement already satisfied: fonttools>=4.22.0 in /home/concina/telephaty/ASR_challenge_Telepathy/venv_challenge_task_2/lib/python3.10/site-packages (from matplotlib) (4.54.1)\n",
      "Requirement already satisfied: six>=1.5 in /home/concina/telephaty/ASR_challenge_Telepathy/venv_challenge_task_2/lib/python3.10/site-packages (from python-dateutil>=2.7->matplotlib) (1.16.0)\n"
     ]
    }
   ],
   "source": [
    "!pip install virtualenv\n",
    "!virtualenv venv_task_2\n",
    "!source venv/bin/activate\n",
    "!pip install faster-whisper\n",
    "!pip install evaluate==0.4.0\n",
    "!pip install jiwer\n",
    "!pip install matplotlib"
   ]
  },
  {
   "cell_type": "markdown",
   "metadata": {
    "id": "TFu8v5LMysGY"
   },
   "source": [
    "Mount Google Drive to load audio files (Colab only)"
   ]
  },
  {
   "cell_type": "code",
   "execution_count": 106,
   "metadata": {
    "colab": {
     "base_uri": "https://localhost:8080/"
    },
    "id": "SUbYcLK1yrzy",
    "outputId": "803c6ab1-a9a5-4137-9531-58631eee7444"
   },
   "outputs": [
    {
     "name": "stdout",
     "output_type": "stream",
     "text": [
      "Drive already mounted at /content/drive; to attempt to forcibly remount, call drive.mount(\"/content/drive\", force_remount=True).\n"
     ]
    }
   ],
   "source": [
    "from google.colab import drive\n",
    "drive.mount('/content/drive')"
   ]
  },
  {
   "cell_type": "code",
   "execution_count": 2,
   "metadata": {
    "id": "pZTsgtlN3ZS1"
   },
   "outputs": [
    {
     "name": "stderr",
     "output_type": "stream",
     "text": [
      "/home/concina/telephaty/ASR_challenge_Telepathy/venv_challenge_task_2/lib/python3.10/site-packages/tqdm/auto.py:21: TqdmWarning: IProgress not found. Please update jupyter and ipywidgets. See https://ipywidgets.readthedocs.io/en/stable/user_install.html\n",
      "  from .autonotebook import tqdm as notebook_tqdm\n"
     ]
    }
   ],
   "source": [
    "import os\n",
    "import jiwer\n",
    "from evaluate import load\n",
    "from faster_whisper import WhisperModel\n",
    "from faster_whisper.utils import download_model\n",
    "import matplotlib.pyplot as plt\n"
   ]
  },
  {
   "cell_type": "markdown",
   "metadata": {
    "id": "wqqTtnq05KLw"
   },
   "source": [
    "Download Whisper model from HuggingFace hub"
   ]
  },
  {
   "cell_type": "code",
   "execution_count": 108,
   "metadata": {
    "colab": {
     "base_uri": "https://localhost:8080/"
    },
    "id": "UiWP_txD5NyH",
    "outputId": "54e9e644-4421-46da-c2ec-06a215301aa9"
   },
   "outputs": [
    {
     "name": "stdout",
     "output_type": "stream",
     "text": [
      "Model Systran/faster-whisper-tiny.en save at location /content/drive/My Drive/Telephaty_challenge/whisper_model\n"
     ]
    },
    {
     "name": "stderr",
     "output_type": "stream",
     "text": [
      "/usr/local/lib/python3.10/dist-packages/huggingface_hub/file_download.py:1212: UserWarning: `local_dir_use_symlinks` parameter is deprecated and will be ignored. The process to download files to a local folder has been updated and do not rely on symlinks anymore. You only need to pass a destination folder as`local_dir`.\n",
      "For more details, check out https://huggingface.co/docs/huggingface_hub/main/en/guides/download#download-files-to-local-folder.\n",
      "  warnings.warn(\n"
     ]
    }
   ],
   "source": [
    "model_size = 'Systran/faster-whisper-tiny.en'  #https://huggingface.co/Systran/faster-whisper-tiny.en\n",
    "model_folder = '/content/drive/My Drive/Telephaty_challenge/whisper_model'\n",
    "\n",
    "#ensure the model folder exists\n",
    "os.makedirs(model_folder, exist_ok=True)\n",
    "\n",
    "model_path = download_model(\n",
    "                size_or_id=model_size,\n",
    "                output_dir=model_folder,\n",
    "            )\n",
    "print(f\"Model {model_size} save at location {model_folder}\")"
   ]
  },
  {
   "cell_type": "markdown",
   "metadata": {
    "id": "a9-_wwuc12vW"
   },
   "source": [
    "Define all important paths to data"
   ]
  },
  {
   "cell_type": "code",
   "execution_count": 126,
   "metadata": {
    "id": "RUMsyjci1buw"
   },
   "outputs": [],
   "source": [
    "#Set path to clea audio files\n",
    "clean_audio_folder_path = \"/content/drive/My Drive/Telephaty_challenge/tl_speech_challenge/clean_speech\"\n",
    "#Set augmnetation_chain, whcih must be one of the three chain implemented for task 1: augment_raw_audio_noise, augment_raw_audio_tel_channel, augment_raw_audio_noise+tel_channel\n",
    "augmnetation_chain = \"augment_raw_audio_noise+tel_channel\"\n",
    "augmented_audio_folder_path = os.path.join(\"/content/drive/My Drive/Telephaty_challenge/tl_speech_challenge/augmented_speech\",augmnetation_chain)\n",
    "#Set the path to ground truth transcriptions (labels)\n",
    "transcriptions_labels_path = \"/content/drive/My Drive/Telephaty_challenge/tl_speech_challenge/transcriptions.txt\"\n"
   ]
  },
  {
   "cell_type": "markdown",
   "metadata": {
    "id": "caLxda1E8b2h"
   },
   "source": [
    "Define Whisper parameters"
   ]
  },
  {
   "cell_type": "code",
   "execution_count": 127,
   "metadata": {
    "id": "wShHdX8z8UVa"
   },
   "outputs": [],
   "source": [
    "#model_folder already defined earlier\n",
    "lang = 'en' #not really necessary because we are using the monolingual model\n",
    "task = 'transcribe'\n",
    "quantization = 'float32' #other options: float32, int8, int16, int8_float16\n",
    "decoding_device = -1 #CPU with -1 or a specific avaible GPU with it s index: 0,1,2..\n",
    "cpu_threads = 4\n",
    "\n",
    "#load whisper\n",
    "device_index = []\n",
    "if decoding_device == -1:\n",
    "    device=\"cpu\"\n",
    "    #load the model (hard-code here any other argument like 'compute_type'. Check WhisperModel class for all parameters)\n",
    "    model = WhisperModel(model_path, device=device, compute_type=quantization, cpu_threads=cpu_threads)\n",
    "else:\n",
    "    device=\"cuda\"\n",
    "    device_index.append(decoding_device)\n",
    "    #load the model (hard-code here any other argument like 'compute_type'. Check WhisperModel class for all parameters)\n",
    "    model = WhisperModel(model_path, device=\"cuda\", device_index=device_index, compute_type=quantization)"
   ]
  },
  {
   "cell_type": "markdown",
   "metadata": {
    "id": "iZxSXVV-__iO"
   },
   "source": [
    "Find all audio files clean and augmented"
   ]
  },
  {
   "cell_type": "code",
   "execution_count": 128,
   "metadata": {
    "id": "Y-RETiSmADJc"
   },
   "outputs": [],
   "source": [
    "#function that simply return a list of path to all files in a certain folder\n",
    "def get_wav_file_paths(folder_path):\n",
    "    # List to store absolute paths of all .wav files\n",
    "    wav_files = []\n",
    "    # List all files in the folder\n",
    "    for filename in os.listdir(folder_path):\n",
    "        full_path = os.path.join(folder_path, filename)\n",
    "        # Check if it's a .wav file and if it's an actual file (not a directory)\n",
    "        if filename.endswith('.wav') and os.path.isfile(full_path):\n",
    "            wav_files.append(os.path.abspath(full_path))\n",
    "    return wav_files\n",
    "\n",
    "#list of all clean speech files\n",
    "clean_speech_files = get_wav_file_paths(clean_audio_folder_path)\n",
    "augmented_speech_files = get_wav_file_paths(augmented_audio_folder_path)\n"
   ]
  },
  {
   "cell_type": "markdown",
   "metadata": {
    "id": "hG4N8LIbP1_4"
   },
   "source": [
    "Pre-processing of the transcription file containing ground truth transcriptions (keeping only necessary transcription associated to clean audio files)"
   ]
  },
  {
   "cell_type": "code",
   "execution_count": 129,
   "metadata": {
    "colab": {
     "base_uri": "https://localhost:8080/"
    },
    "id": "S03JNHkSP68w",
    "outputId": "27d5bdf3-1f6f-4018-999c-483f6bd22d5c"
   },
   "outputs": [
    {
     "name": "stdout",
     "output_type": "stream",
     "text": [
      "[['common_voice_en_18707271', 'The sale attracted international bidders.'], ['common_voice_en_26986908', 'All played on the East Course.'], ['common_voice_en_18847010', 'He is buried in Arlington National Cemetery, Virginia.'], ['common_voice_en_195196', \"You'll wreck your raincoat.\"], ['common_voice_en_19946688', 'The lower, eastern, peak can be reached without any difficulty.'], ['common_voice_en_23727139', 'It is closed statutory holidays.'], ['common_voice_en_25662124', 'Drabek batted and threw right-handed.'], ['common_voice_en_19687348', 'After the campaign, Zyndram returned to his domain.'], ['common_voice_en_25230829', 'Like the other boroughs of Hamburg, Harburg is divided into quarters.'], ['common_voice_en_552170', 'The brown dog is jumping a hurdle over a yellow and black pole.']]\n"
     ]
    }
   ],
   "source": [
    "# Dictionary to store utterance_id and transcription from the text file\n",
    "transcription_dict = {}\n",
    "\n",
    "#list with only usefull labels\n",
    "ground_truth_transcriptions = []\n",
    "\n",
    "# Parse the transcription file and populate the dictionary\n",
    "with open(transcriptions_labels_path, 'r', encoding='utf-8') as file:\n",
    "    for line in file:\n",
    "        utterance_id, transcription = line.strip().split('\\t')\n",
    "        #remove enventual quotes from the transcription\n",
    "        transcription = transcription.replace('\"', '')\n",
    "        transcription_dict[utterance_id] = transcription\n",
    "\n",
    "for clean_speech_path in clean_speech_files:\n",
    "    clean_utterance_id = os.path.basename(clean_speech_path).replace(\".wav\", \"\")\n",
    "    # Populate ground_truth_transcriptions\n",
    "    if clean_utterance_id in transcription_dict:\n",
    "         ground_truth_transcriptions.append([clean_utterance_id, transcription_dict[clean_utterance_id]])\n",
    "\n",
    "print(ground_truth_transcriptions)"
   ]
  },
  {
   "cell_type": "markdown",
   "metadata": {
    "id": "ea8oazyI9iKV"
   },
   "source": [
    "Run transcription"
   ]
  },
  {
   "cell_type": "code",
   "execution_count": 130,
   "metadata": {
    "colab": {
     "base_uri": "https://localhost:8080/"
    },
    "id": "qK3lNJO09gcX",
    "outputId": "fd19ef97-f0e5-4fbe-966e-8bf5aa5077b6"
   },
   "outputs": [
    {
     "name": "stdout",
     "output_type": "stream",
     "text": [
      "Transcription of Clean Speech: \n",
      "\n",
      "Utt id: common_voice_en_18707271, Label: The sale attracted international bidders.,  Clean speech:  the sale across the international leaders., Augmented speecht:  the sale of the international leaders.\n",
      "Utt id: common_voice_en_26986908, Label: All played on the East Course.,  Clean speech:  Ooh, played on the east coast., Augmented speecht:  all played on the east coast\n",
      "Utt id: common_voice_en_18847010, Label: He is buried in Arlington National Cemetery, Virginia.,  Clean speech:  He is buried in Arlington National Cemetery, Virginia., Augmented speecht:  Thank you for watching, and have a great day!\n",
      "Utt id: common_voice_en_195196, Label: You'll wreck your raincoat.,  Clean speech:  You will wreck your raincoat., Augmented speecht:  You are left your own coat.\n",
      "Utt id: common_voice_en_19946688, Label: The lower, eastern, peak can be reached without any difficulty.,  Clean speech:  The level is 10p can be reached without an inventory., Augmented speecht:  But no one is telling me, can't be reached without any difficulty.\n",
      "Utt id: common_voice_en_23727139, Label: It is closed statutory holidays.,  Clean speech:  It is closed statue story on a day., Augmented speecht:  It is known that you saw it on a day.\n",
      "Utt id: common_voice_en_25662124, Label: Drabek batted and threw right-handed.,  Clean speech:  to a big basket and through right-handed, Augmented speecht:  to a big bag and clean the place and it's...\n",
      "Utt id: common_voice_en_19687348, Label: After the campaign, Zyndram returned to his domain.,  Clean speech:  After the campaign, Syndrome returned to his domain., Augmented speecht:  After the campaign, Zendrum returned to his domain.\n",
      "Utt id: common_voice_en_25230829, Label: Like the other boroughs of Hamburg, Harburg is divided into quarters.,  Clean speech:  Like the other part of the Hamburg, Hamburg is divided into quarters., Augmented speecht:  Like that our photos of Hamburg had a book is divided into quarters.\n",
      "Utt id: common_voice_en_552170, Label: The brown dog is jumping a hurdle over a yellow and black pole.,  Clean speech:  The brown dog is jumping a huddle of very yellow and black pole., Augmented speecht: \n"
     ]
    }
   ],
   "source": [
    "#function that incaplusate faster whisper trnascription\n",
    "def transcribe_audio(file_path, lang, task):\n",
    "    #transcribe the file\n",
    "    segments, info = model.transcribe(file_path, lang, beam_size=5, task=task)\n",
    "    transcription = \"\".join([segment.text for segment in segments])\n",
    "    #extract utterance id\n",
    "    utterance_id = os.path.splitext(os.path.basename(file_path))[0]\n",
    "    return transcription, utterance_id\n",
    "\n",
    "#transcribe clean and augmented speech and extract into a list the ground truth transcriptions\n",
    "clean_transcriptions = []\n",
    "augmented_transcriptions = []\n",
    "\n",
    "for clean_speech_path, augmented_speech_path in zip(clean_speech_files, augmented_speech_files):\n",
    "    # Transcribe clean speech\n",
    "    clean_transcription, clean_utterance_id = transcribe_audio(clean_speech_path, lang, task)\n",
    "    clean_transcriptions.append([clean_utterance_id, clean_transcription])\n",
    "\n",
    "    # Transcribe augmented speech\n",
    "    augmented_transcription, augmented_utterance_id = transcribe_audio(augmented_speech_path, lang, task)\n",
    "    augmented_transcriptions.append([augmented_utterance_id, augmented_transcription])\n",
    "\n",
    "\n",
    "print(\"Transcription of Clean Speech: \\n\")\n",
    "for clean_tran, aug_tran, label in zip(clean_transcriptions,augmented_transcriptions, ground_truth_transcriptions):\n",
    "  print(f\"Utt id: {clean_tran[0]}, Label: {label[1]},  Clean speech: {clean_tran[1]}, Augmented speecht: {aug_tran[1]}\")\n",
    "\n",
    "#print(clean_transcriptions)\n",
    "#print(augmented_transcriptions)\n",
    "\n"
   ]
  },
  {
   "cell_type": "markdown",
   "metadata": {
    "id": "h61djAN-zeNH"
   },
   "source": [
    "Evaluate transcriptions Clean VS Augmented"
   ]
  },
  {
   "cell_type": "code",
   "execution_count": 131,
   "metadata": {
    "colab": {
     "base_uri": "https://localhost:8080/",
     "height": 559
    },
    "id": "85WSEQthz6qV",
    "outputId": "15c16993-eae6-4074-e4d5-b34e1cbe6528"
   },
   "outputs": [
    {
     "name": "stdout",
     "output_type": "stream",
     "text": [
      "WER of Whisper Tiny.en on clean speech data: 0.4266666666666667\n",
      "WER of Whisper Tiny.en on augmented speech data: 0.88 \n",
      "\n"
     ]
    },
    {
     "data": {
      "image/png": "[encoded data removed]",
      "text/plain": [
       "<Figure size 800x500 with 1 Axes>"
      ]
     },
     "metadata": {},
     "output_type": "display_data"
    }
   ],
   "source": [
    "\n",
    "#load metrics\n",
    "wer = load(\"wer\")\n",
    "cer = load(\"cer\")\n",
    "\n",
    "# Prepare lists for references and hypotheses\n",
    "references = []\n",
    "hypotheses = []\n",
    "\n",
    "#Compute WER of whisper tiny on clean speech\n",
    "for gt, asr in zip(ground_truth_transcriptions, clean_transcriptions):\n",
    "    if gt[0] == asr[0]:  # Ensure that the utterance IDs match\n",
    "        references.append(gt[1])  # Add ground truth transcription\n",
    "        hypotheses.append(asr[1])  # Add ASR output transcription\n",
    "\n",
    "wer_score_clean = jiwer.wer(references,hypotheses)\n",
    "print(f\"WER of Whisper Tiny.en on clean speech data: {wer_score_clean}\")\n",
    "\n",
    "references = []\n",
    "hypotheses = []\n",
    "\n",
    "#Compute WER of whisper tiny on augmented speech\n",
    "for gt, asr in zip(ground_truth_transcriptions, augmented_transcriptions):\n",
    "    if gt[0] == asr[0]:  # Ensure that the utterance IDs match\n",
    "        references.append(gt[1])  # Add ground truth transcription\n",
    "        hypotheses.append(asr[1])  # Add ASR output transcription\n",
    "\n",
    "wer_score_aug = jiwer.wer(references,hypotheses)\n",
    "print(f\"WER of Whisper Tiny.en on augmented speech data: {wer_score_aug} \\n\")\n",
    "\n",
    "\n",
    "wer_values = [wer_score_clean,wer_score_aug]\n",
    "sets = ['Clean speech', 'Augmented speech']\n",
    "\n",
    "#visualize WER\n",
    "plt.figure(figsize=(8, 5))\n",
    "plt.bar(sets, wer_values, color=['blue', 'orange'])\n",
    "plt.xlabel('Data Sets')\n",
    "plt.ylabel('Word Error Rate (WER)')\n",
    "plt.title('Comparison of WER between Two Data Sets')\n",
    "plt.ylim(0, max(wer_values) + 0.1)  # Adjust y-axis limit for better visualization\n",
    "plt.axhline(y=0, color='gray', linewidth=0.8)\n",
    "plt.grid(axis='y', linestyle='--', alpha=0.7)\n",
    "\n",
    "for i, value in enumerate(wer_values):\n",
    "    plt.text(i, value, f'{value:.2f}', ha='center', va='bottom')\n",
    "\n",
    "# Display the plot\n",
    "plt.tight_layout()\n",
    "plt.show()\n"
   ]
  },
  {
   "cell_type": "markdown",
   "metadata": {
    "id": "LQV50p8Rl1BO"
   },
   "source": [
    "Run the whole previous pipelien on all the 3 Augmented datasets to have the whole comaprison in the plot"
   ]
  }
 ],
 "metadata": {
  "colab": {
   "provenance": []
  },
  "kernelspec": {
   "display_name": "Python 3 (ipykernel)",
   "language": "python",
   "name": "python3"
  },
  "language_info": {
   "codemirror_mode": {
    "name": "ipython",
    "version": 3
   },
   "file_extension": ".py",
   "mimetype": "text/x-python",
   "name": "python",
   "nbconvert_exporter": "python",
   "pygments_lexer": "ipython3",
   "version": "3.10.12"
  }
 },
 "nbformat": 4,
 "nbformat_minor": 4
}
