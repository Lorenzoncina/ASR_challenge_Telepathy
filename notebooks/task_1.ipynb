{
 "cells": [
  {
   "cell_type": "code",
   "execution_count": null,
   "id": "6a5fc961-a763-4b0a-8aac-c552b590a839",
   "metadata": {},
   "outputs": [],
   "source": []
  }
 ],
 "metadata": {
  "kernelspec": {
   "display_name": "",
   "name": ""
  },
  "language_info": {
   "name": ""
  }
 },
 "nbformat": 4,
 "nbformat_minor": 5
}
