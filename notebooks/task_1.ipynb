{
 "cells": [
  {
   "cell_type": "code",
   "execution_count": null,
   "id": "a494a757-47eb-4606-bfea-b8444f20cb33",
   "metadata": {},
   "outputs": [],
   "source": [
    "import os\n",
    "import librosa\n",
    "import soundfile\n",
    "improt audiomentations "
   ]
  },
  {
   "cell_type": "code",
   "execution_count": null,
   "id": "f4eb76d1-8b64-480d-befc-3879d1e6f7c2",
   "metadata": {},
   "outputs": [],
   "source": [
    "print(\"ok\")"
   ]
  },
  {
   "cell_type": "code",
   "execution_count": null,
   "id": "76a76d8f-5d6a-43a6-a5b2-2026e1ad4072",
   "metadata": {},
   "outputs": [],
   "source": [
    "i"
   ]
  }
 ],
 "metadata": {
  "kernelspec": {
   "display_name": "Python 3 (ipykernel)",
   "language": "python",
   "name": "python3"
  },
  "language_info": {
   "name": ""
  }
 },
 "nbformat": 4,
 "nbformat_minor": 5
}
